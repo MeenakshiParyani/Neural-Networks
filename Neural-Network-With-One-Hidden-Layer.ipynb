{
 "cells": [
  {
   "cell_type": "code",
   "execution_count": 1,
   "metadata": {},
   "outputs": [],
   "source": [
    "# Imports\n",
    "import pandas as pd\n",
    "import numpy as np\n",
    "%matplotlib inline\n",
    "import matplotlib.pyplot as plt\n",
    "from sklearn.linear_model import LogisticRegression\n",
    "from sklearn.metrics import confusion_matrix\n",
    "from sklearn.metrics import classification_report"
   ]
  },
  {
   "cell_type": "code",
   "execution_count": 2,
   "metadata": {},
   "outputs": [
    {
     "name": "stdout",
     "output_type": "stream",
     "text": [
      "(3500, 400)\n",
      "(3500,)\n",
      "2    361\n",
      "8    357\n",
      "3    353\n",
      "9    351\n",
      "7    350\n",
      "5    349\n",
      "1    349\n",
      "0    345\n",
      "6    343\n",
      "4    342\n",
      "Name: y, dtype: int64\n"
     ]
    }
   ],
   "source": [
    "# Reading the training data\n",
    "data_train = pd.read_csv('ex3_train.csv', sep=\",\", encoding='utf-8', header='infer')\n",
    "df_train = data_train\n",
    "\n",
    "y_train = df_train['y']\n",
    "X_train = df_train.drop(['y'], axis=1)\n",
    "\n",
    "print(X_train.shape)\n",
    "print(y_train.shape)\n",
    "print(y_train.value_counts())"
   ]
  },
  {
   "cell_type": "code",
   "execution_count": 3,
   "metadata": {},
   "outputs": [
    {
     "name": "stdout",
     "output_type": "stream",
     "text": [
      "(1500, 400)\n",
      "(1500,)\n",
      "4    158\n",
      "6    157\n",
      "0    155\n",
      "5    151\n",
      "1    151\n",
      "7    150\n",
      "9    149\n",
      "3    147\n",
      "8    143\n",
      "2    139\n",
      "Name: y, dtype: int64\n"
     ]
    }
   ],
   "source": [
    "# Reading the test data\n",
    "data_test = pd.read_csv('ex3_test.csv', sep=\",\", encoding='utf-8', header='infer')\n",
    "df_test = data_test\n",
    "\n",
    "y_test = df_test['y']\n",
    "X_test = df_test.drop(['y'], axis=1)\n",
    "print(X_test.shape)\n",
    "print(y_test.shape)\n",
    "print(y_test.value_counts())"
   ]
  },
  {
   "cell_type": "code",
   "execution_count": 4,
   "metadata": {},
   "outputs": [
    {
     "name": "stdout",
     "output_type": "stream",
     "text": [
      "Accuracy of logistic regression classifier on test set: 0.91\n",
      "[[151   0   1   0   1   0   1   0   1   0]\n",
      " [  0 143   0   1   1   3   0   0   3   0]\n",
      " [  1   1 124   2   0   3   2   1   4   1]\n",
      " [  0   0  10 128   0   5   0   3   0   1]\n",
      " [  1   2   2   1 143   0   3   0   2   4]\n",
      " [  4   0   0  10   2 125   0   0   9   1]\n",
      " [  0   0   1   0   0   4 152   0   0   0]\n",
      " [  0   1   2   0   3   0   0 137   0   7]\n",
      " [  0   1   3   3   1   4   1   0 129   1]\n",
      " [  1   1   0   1   4   1   2   9   2 128]]\n",
      "             precision    recall  f1-score   support\n",
      "\n",
      "          0       0.96      0.97      0.96       155\n",
      "          1       0.96      0.95      0.95       151\n",
      "          2       0.87      0.89      0.88       139\n",
      "          3       0.88      0.87      0.87       147\n",
      "          4       0.92      0.91      0.91       158\n",
      "          5       0.86      0.83      0.84       151\n",
      "          6       0.94      0.97      0.96       157\n",
      "          7       0.91      0.91      0.91       150\n",
      "          8       0.86      0.90      0.88       143\n",
      "          9       0.90      0.86      0.88       149\n",
      "\n",
      "avg / total       0.91      0.91      0.91      1500\n",
      "\n"
     ]
    }
   ],
   "source": [
    "from sklearn import metrics\n",
    "logreg = LogisticRegression()\n",
    "logreg.fit(X_train, y_train)\n",
    "\n",
    "y_pred = logreg.predict(X_test)\n",
    "print('Accuracy of logistic regression classifier on test set: {:.2f}'.format(logreg.score(X_test, y_test)))\n",
    "\n",
    "confusion_matrix = confusion_matrix(y_test, y_pred)\n",
    "print(confusion_matrix)\n",
    "print(classification_report(y_test, y_pred))"
   ]
  }
 ],
 "metadata": {
  "kernelspec": {
   "display_name": "Python 3",
   "language": "python",
   "name": "python3"
  },
  "language_info": {
   "codemirror_mode": {
    "name": "ipython",
    "version": 3
   },
   "file_extension": ".py",
   "mimetype": "text/x-python",
   "name": "python",
   "nbconvert_exporter": "python",
   "pygments_lexer": "ipython3",
   "version": "3.6.4"
  }
 },
 "nbformat": 4,
 "nbformat_minor": 2
}
