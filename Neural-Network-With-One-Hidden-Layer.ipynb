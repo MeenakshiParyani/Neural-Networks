{
 "cells": [
  {
   "cell_type": "code",
   "execution_count": 1,
   "metadata": {
    "collapsed": true
   },
   "outputs": [],
   "source": [
    "# Imports\n",
    "import pandas as pd\n",
    "import numpy as np\n",
    "%matplotlib inline\n",
    "import matplotlib.pyplot as plt\n",
    "import sys\n",
    "from termcolor import colored"
   ]
  },
  {
   "cell_type": "markdown",
   "metadata": {},
   "source": [
    "### 1.(40pts) Define functions"
   ]
  },
  {
   "cell_type": "code",
   "execution_count": 2,
   "metadata": {},
   "outputs": [],
   "source": [
    "# One hot Encoding the categorical output values to binary by adding 1's for that index and 0's otherwise\n",
    "def oneHotEncode(y):\n",
    "#     print('Before Encoding ')\n",
    "#     print(y)\n",
    "#     print(type(y))\n",
    "    enc = pd.get_dummies(y['y'])\n",
    "#     print('After Encoding ')\n",
    "#     print(enc)\n",
    "    return np.matrix(enc)\n",
    "\n",
    "# Applying Sigmoid Activation function to the hidden layer outputs used while forward propagation\n",
    "# works with scalar, arrays and matrix as well\n",
    "# Purpose of this method is to do squishing on the linear function\n",
    "def apply_sigmoid(z):\n",
    "    return 1./(1+np.exp(-z))\n",
    "\n",
    "# Applying Sigmoid Activation function to the hidden layer outputs used while backward propagation to get gradients\n",
    "# works with scalar, arrays and matrix as well\n",
    "# Purpose of this method is to do undo the squishing on the linear function\n",
    "def apply_sigmoid_prime(z):\n",
    "#     print('Before')\n",
    "#     print(z)\n",
    "    #inv = np.dot(z.T, (1-z))\n",
    "    inv = (np.exp(-z))/(np.power((1+np.exp(-z)),2))\n",
    "#     print('After')\n",
    "#     print(inv)\n",
    "    return inv\n",
    "\n",
    "\n",
    "# Forward propagation to calculate yHat by applying activation function twice\n",
    "def forward_propagate(X, W1, W2, b1, b2):\n",
    "    Z1 = np.dot(W1, X) + b1\n",
    "#     print('----Z1----')\n",
    "#     print(Z1)\n",
    "    A1 = apply_sigmoid(Z1)\n",
    "#     print('----A1----')\n",
    "#     print(A1)\n",
    "#     print('----W2----')\n",
    "#     print(W2)\n",
    "    Z2 = np.dot(W2, A1) + b2\n",
    "#     print('----Z2----')\n",
    "#     print(Z2)\n",
    "    A2 = apply_sigmoid(Z2) # Output of the last layer(output layer)\n",
    "#     print('----A2----')\n",
    "#     print(A2)\n",
    "    return A1, A2, Z1, Z2\n",
    "\n",
    "# Backward Propagation function to calculate the gradients\n",
    "def back_propagate(Z1, X, Y, A1, A2, W2):\n",
    "    m = X.shape[1]\n",
    "#     print(m)\n",
    "#     print('----Y----')\n",
    "#     print(Y)\n",
    "#     print('----A2----')\n",
    "#     print(A2)\n",
    "    dZ2 = A2 - Y\n",
    "#     print('----dz2----')\n",
    "#     print(dZ2)\n",
    "#     print(type(dZ2))\n",
    "#     print('----A1T----')\n",
    "#     print(A1.T)\n",
    "    dW2 = (1./m) * np.dot(dZ2, A1.T)\n",
    "#     print('----dw2----')\n",
    "#     print(dW2)\n",
    "    db2 = (1./m) * np.sum(dZ2, axis=1)\n",
    "#     print('----db2----')\n",
    "#     print(db2)\n",
    "    temp1 = np.dot( W2.T, dZ2 )\n",
    "    temp2 = apply_sigmoid_prime(Z1)\n",
    "#     print('----temp1----')\n",
    "#     print(temp1)\n",
    "#     print('----temp2----')\n",
    "#     print(temp2)\n",
    "    dZ1 = np.multiply(temp1 , temp2) # element wise product of same dimension matrices\n",
    "#     print('----dz1----')\n",
    "#     print(dZ1)\n",
    "    dW1 = (1./m) * np.dot(dZ1, X.T)\n",
    "#     print('----dw1----')\n",
    "#     print(dW1)\n",
    "    db1 = (1./m) * np.sum(dZ1, axis =1)\n",
    "#     print('----db1----')\n",
    "#     print(db1)\n",
    "    return dW1, db1, dW2, db2\n",
    "    \n",
    "# Get the loss of for the training example\n",
    "def get_cost(Y, Yhat):\n",
    "    m= Y.shape[1]\n",
    "#     print(m)\n",
    "    loss = np.multiply(np.log(Yhat),Y) + np.multiply((1.-Y), np.log(1. - Yhat))\n",
    "#     print(loss)\n",
    "    loss = np.sum(loss)\n",
    "    #print('loss is ' + str(loss))\n",
    "    cost = -1./m * np.sum(loss)\n",
    "    cost = np.squeeze(cost)\n",
    "    return cost\n",
    "\n",
    "def gradientDescent(X, Y, YOrg, alpha, iters, hidden, inp, output):  \n",
    "    # Call Forward propagation to calculate yHat\n",
    "    W1, W2, b1, b2 = initialize_parameters(hidden, inp, output)\n",
    "    old_cost = sys.maxsize\n",
    "    new_cost = sys.maxsize\n",
    "    dW1 = None\n",
    "    db1 = None\n",
    "    dW2 = None\n",
    "    db2 = None\n",
    "    cost_history = []\n",
    "    for i in range(iters):\n",
    "        A1, A2, Z1, Z2 = forward_propagate(X, W1, W2, b1, b2)\n",
    "        old_cost = new_cost\n",
    "        new_cost = get_cost(Y, A2)\n",
    "        dW1, db1, dW2, db2 = back_propagate(Z1, X, Y, A1, A2, W2)\n",
    "        W1 = W1 - alpha * dW1\n",
    "        b1 = b1 - alpha * db1\n",
    "        W2 = W2 - alpha * dW2\n",
    "        b2 = b2 - alpha * db2\n",
    "        if(abs(old_cost - new_cost) < 0.00000000001):\n",
    "            print(\"breaking\" + str(old_cost) + str(new_cost))\n",
    "            break;\n",
    "        #print (\"cost : \" + str(new_cost) + \" Old cost : \" + str(old_cost) + \" Iteration: \" + str(i))\n",
    "        cost_history.append(new_cost)\n",
    "    A2 = softmax(A2)\n",
    "    accuracy = get_accuracy(YOrg, A2)\n",
    "    return W1 , b1, W2, b2, cost_history, new_cost, accuracy\n",
    "\n",
    "# Softmax activation function to get the probablity of the classes\n",
    "def softmax(z):\n",
    "    softMax = (np.exp(z) / np.sum(np.exp(z),axis=0))\n",
    "    softMax = np.matrix(np.argmax(softMax,axis=0)).T\n",
    "    return softMax\n",
    "\n",
    "def plotCostHistory(cost_history, alpha, i):\n",
    "     line = plt.plot(cost_history, label=alpha)\n",
    "     plt.ylabel('Cost');\n",
    "     plt.xlabel('Iterations');\n",
    "     plt.title('Cost Progression with Iterations for different learning rates')\n",
    "     plt.legend()\n",
    "        \n",
    "def get_accuracy(Y, Ypred):\n",
    "    Y = np.matrix(Y)\n",
    "    numcorrect = 0\n",
    "    for (x,y) in zip(Ypred,Y):\n",
    "        if(x[0]==y[0]):\n",
    "            numcorrect+=1\n",
    "    accuracy=numcorrect*100.0/len(Y)\n",
    "    return accuracy"
   ]
  },
  {
   "cell_type": "markdown",
   "metadata": {},
   "source": [
    "### 2. (5pts) Split data"
   ]
  },
  {
   "cell_type": "code",
   "execution_count": 3,
   "metadata": {
    "scrolled": false
   },
   "outputs": [],
   "source": [
    "# Reading the training data\n",
    "data_train = pd.read_csv('ex3_train.csv', sep=\",\", encoding='utf-8', header='infer')\n",
    "df_train = data_train\n",
    "m = df_train.shape[0]\n",
    "\n",
    "y_train = pd.DataFrame(df_train['y'])\n",
    "X_train = df_train.drop(['y'], axis=1)\n",
    "\n",
    "X_train_mat = np.matrix(X_train).T\n",
    "y_train_mat = oneHotEncode(y_train).T"
   ]
  },
  {
   "cell_type": "code",
   "execution_count": 4,
   "metadata": {
    "collapsed": true
   },
   "outputs": [],
   "source": [
    "# Reading the test data\n",
    "data_test = pd.read_csv('ex3_test.csv', sep=\",\", encoding='utf-8', header='infer')\n",
    "df_test = data_test\n",
    "\n",
    "y_test = pd.DataFrame(df_test['y'])\n",
    "X_test = df_test.drop(['y'], axis=1)\n",
    "\n",
    "X_test_mat = np.matrix(X_test).T\n",
    "y_test_mat = oneHotEncode(y_test).T\n",
    "\n",
    "# Plot the selected pixel\n",
    "# num = 7\n",
    "# pixels = np.array(X_test[num:num+1], dtype='uint8')\n",
    "# print(y_test[num:num+1])\n",
    "# pixels = pixels.reshape((20, 20))\n",
    "# plt.imshow(pixels, cmap='gray')\n",
    "# plt.show()"
   ]
  },
  {
   "cell_type": "markdown",
   "metadata": {},
   "source": [
    "### 3. (5pts) Initialize parameters"
   ]
  },
  {
   "cell_type": "code",
   "execution_count": 5,
   "metadata": {},
   "outputs": [],
   "source": [
    "# Initialize weights\n",
    "np.random.seed(1) # Setting random seed to 1\n",
    "def initialize_parameters(hiddenLayerSize, inputLayerSize, outputLayerSize):\n",
    "    W1 = np.random.randn(hiddenLayerSize, inputLayerSize) * 0.01;\n",
    "    W2 = np.random.randn(outputLayerSize, hiddenLayerSize) * 0.01;\n",
    "    b1 = np.zeros((hiddenLayerSize,1));\n",
    "    b2 = np.zeros((outputLayerSize,1));\n",
    "    return W1, W2, b1, b2"
   ]
  },
  {
   "cell_type": "markdown",
   "metadata": {},
   "source": [
    "### 4. (20pts) Neural Network model with 1 hidden layer"
   ]
  },
  {
   "cell_type": "code",
   "execution_count": 6,
   "metadata": {},
   "outputs": [
    {
     "name": "stdout",
     "output_type": "stream",
     "text": [
      "Input Layer Size is 400\n",
      "Hidden Layer Size is 25\n",
      "Output Layer Size is 10\n"
     ]
    }
   ],
   "source": [
    "# Defining Hyperparameters\n",
    "inputLayerSize = X_train_mat.shape[0]\n",
    "hiddenLayerSize = 25 # As specified in assignment requirements\n",
    "outputLayerSize = 10\n",
    "print('Input Layer Size is ' + str(inputLayerSize))\n",
    "print('Hidden Layer Size is ' + str(hiddenLayerSize))\n",
    "print('Output Layer Size is ' + str(outputLayerSize))"
   ]
  },
  {
   "cell_type": "markdown",
   "metadata": {},
   "source": [
    "### 5. (10pts) Predictions \n",
    "### 6. (20pts) Optimization"
   ]
  },
  {
   "cell_type": "code",
   "execution_count": 7,
   "metadata": {},
   "outputs": [],
   "source": [
    "# Optimization function to check cost propagartion for different learning rates\n",
    "def optimize():\n",
    "    alpha = [1, 0.1, 0.001, 0.0001]\n",
    "    i=0\n",
    "    scores = pd.DataFrame(columns=['alpha','W1', 'b1', 'W2', 'b2','accuracy'])\n",
    "    print(colored('*****************Training Data*********************', 'red'))\n",
    "    for a in alpha:\n",
    "        W1 , b1, W2, b2, cost_history, new_cost, acc = gradientDescent(X_train_mat, y_train_mat, \n",
    "                                                            y_train, a, 4500, hiddenLayerSize, inputLayerSize, outputLayerSize)\n",
    "        scores.loc[i] = pd.Series({'alpha':a, 'accuracy':acc, 'W1' : W1, 'b1' : b1, 'W2' : W2, 'b2' : b2})\n",
    "        print(\"Cost with \" + colored(\"Alpha \" + str(a),'green') + \" is \" + str(new_cost) + \" & \" + colored(\"Accuracy is \" + str(acc), 'green'))\n",
    "        plotCostHistory(cost_history, a, i)\n",
    "        i+=1\n",
    "    least_cost_comb = scores['accuracy'].idxmax()\n",
    "    alph = scores.iloc[[least_cost_comb]]['alpha'][least_cost_comb]\n",
    "    W1 = scores.iloc[[least_cost_comb]]['W1'][least_cost_comb]\n",
    "    b1 = scores.iloc[[least_cost_comb]]['b1'][least_cost_comb]\n",
    "    W2 = scores.iloc[[least_cost_comb]]['W2'][least_cost_comb]\n",
    "    b2 = scores.iloc[[least_cost_comb]]['b2'][least_cost_comb]\n",
    "    plt.show()\n",
    "    return W1 , b1, W2, b2, alph"
   ]
  },
  {
   "cell_type": "code",
   "execution_count": 8,
   "metadata": {
    "scrolled": false
   },
   "outputs": [
    {
     "name": "stdout",
     "output_type": "stream",
     "text": [
      "\u001b[31m*****************Training Data*********************\u001b[0m\n",
      "Cost with \u001b[32mAlpha 1\u001b[0m is 0.0643133427923 & \u001b[32mAccuracy is 99.7714285714\u001b[0m\n",
      "Cost with \u001b[32mAlpha 0.1\u001b[0m is 0.502851353092 & \u001b[32mAccuracy is 93.2571428571\u001b[0m\n",
      "Cost with \u001b[32mAlpha 0.001\u001b[0m is 3.25405150734 & \u001b[32mAccuracy is 10.2\u001b[0m\n",
      "Cost with \u001b[32mAlpha 0.0001\u001b[0m is 4.15658149194 & \u001b[32mAccuracy is 9.57142857143\u001b[0m\n"
     ]
    },
    {
     "data": {
      "image/png": "[encoded data removed]",
      "text/plain": [
       "<matplotlib.figure.Figure at 0x1126e9bd0>"
      ]
     },
     "metadata": {},
     "output_type": "display_data"
    }
   ],
   "source": [
    "# Get the best combination of weights and alpha\n",
    "W1 , b1, W2, b2, alph = optimize()"
   ]
  },
  {
   "cell_type": "code",
   "execution_count": 9,
   "metadata": {
    "scrolled": false
   },
   "outputs": [
    {
     "name": "stdout",
     "output_type": "stream",
     "text": [
      "\u001b[31m*****************Test Data************************\u001b[0m\n",
      "\u001b[32mTest Data Optimized accuracy is 92.6\u001b[0m\n"
     ]
    }
   ],
   "source": [
    "A1, A2, Z1, Z2 = forward_propagate(X_test_mat, W1, W2, b1, b2)\n",
    "A2 = softmax(A2)\n",
    "acc = get_accuracy(y_test, A2)\n",
    "print(colored('*****************Test Data************************', 'red'))\n",
    "print(colored('Test Data Optimized accuracy is ' + str(acc), 'green'))"
   ]
  },
  {
   "cell_type": "code",
   "execution_count": 10,
   "metadata": {},
   "outputs": [
    {
     "name": "stdout",
     "output_type": "stream",
     "text": [
      "1\n"
     ]
    }
   ],
   "source": [
    "print(alph)"
   ]
  }
 ],
 "metadata": {
  "kernelspec": {
   "display_name": "Python 2",
   "language": "python",
   "name": "python2"
  },
  "language_info": {
   "codemirror_mode": {
    "name": "ipython",
    "version": 2
   },
   "file_extension": ".py",
   "mimetype": "text/x-python",
   "name": "python",
   "nbconvert_exporter": "python",
   "pygments_lexer": "ipython2",
   "version": "2.7.14"
  }
 },
 "nbformat": 4,
 "nbformat_minor": 2
}
