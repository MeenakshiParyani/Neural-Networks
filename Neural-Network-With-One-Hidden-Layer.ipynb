{
 "cells": [
  {
   "cell_type": "code",
   "execution_count": 1,
   "metadata": {
    "collapsed": true
   },
   "outputs": [],
   "source": [
    "# Imports\n",
    "import pandas as pd\n",
    "import numpy as np\n",
    "%matplotlib inline\n",
    "import matplotlib.pyplot as plt\n",
    "import sys\n",
    "from termcolor import colored\n",
    "from sklearn.metrics import accuracy_score"
   ]
  },
  {
   "cell_type": "markdown",
   "metadata": {},
   "source": [
    "### 1.(40pts) Define functions"
   ]
  },
  {
   "cell_type": "code",
   "execution_count": 2,
   "metadata": {},
   "outputs": [],
   "source": [
    "# One hot Encoding the categorical output values to binary by adding 1's for that index and 0's otherwise\n",
    "def oneHotEncode(y):\n",
    "#     print('Before Encoding ')\n",
    "#     print(y)\n",
    "#     print(type(y))\n",
    "    enc = pd.get_dummies(y['y'])\n",
    "#     print('After Encoding ')\n",
    "#     print(enc)\n",
    "    return np.matrix(enc)\n",
    "\n",
    "# Applying Sigmoid Activation function to the hidden layer outputs used while forward propagation\n",
    "# works with scalar, arrays and matrix as well\n",
    "# Purpose of this method is to do squishing on the linear function\n",
    "def apply_sigmoid(z):\n",
    "    return 1./(1+np.exp(-z))\n",
    "\n",
    "# Applying Sigmoid Activation function to the hidden layer outputs used while backward propagation to get gradients\n",
    "# works with scalar, arrays and matrix as well\n",
    "# Purpose of this method is to do undo the squishing on the linear function\n",
    "def apply_sigmoid_prime(z):\n",
    "#     print('Before')\n",
    "#     print(z)\n",
    "    #inv = np.dot(z.T, (1-z))\n",
    "    inv = (np.exp(-z))/(np.power((1+np.exp(-z)),2))\n",
    "#     print('After')\n",
    "#     print(inv)\n",
    "    return inv\n",
    "\n",
    "\n",
    "# Forward propagation to calculate yHat by applying activation function twice\n",
    "def forward_propagate(X, W1, W2, b1, b2):\n",
    "    Z1 = np.dot(W1, X) + b1\n",
    "#     print('----Z1----')\n",
    "#     print(Z1)\n",
    "    A1 = apply_sigmoid(Z1)\n",
    "#     print('----A1----')\n",
    "#     print(A1)\n",
    "#     print('----W2----')\n",
    "#     print(W2)\n",
    "    Z2 = np.dot(W2, A1) + b2\n",
    "#     print('----Z2----')\n",
    "#     print(Z2)\n",
    "    A2 = apply_sigmoid(Z2) # Output of the last layer(output layer)\n",
    "#     print('----A2----')\n",
    "#     print(A2)\n",
    "    return A1, A2, Z1, Z2\n",
    "\n",
    "# Backward Propagation function to calculate the gradients\n",
    "def back_propagate(Z1, X, Y, A1, A2, W2):\n",
    "    m = X.shape[1]\n",
    "#     print(m)\n",
    "#     print('----Y----')\n",
    "#     print(Y)\n",
    "#     print('----A2----')\n",
    "#     print(A2)\n",
    "    dZ2 = A2 - Y\n",
    "#     print('----dz2----')\n",
    "#     print(dZ2)\n",
    "#     print(type(dZ2))\n",
    "#     print('----A1T----')\n",
    "#     print(A1.T)\n",
    "    dW2 = (1./m) * np.dot(dZ2, A1.T)\n",
    "#     print('----dw2----')\n",
    "#     print(dW2)\n",
    "    db2 = (1./m) * np.sum(dZ2, axis=1)\n",
    "#     print('----db2----')\n",
    "#     print(db2)\n",
    "    temp1 = np.dot( W2.T, dZ2 )\n",
    "    temp2 = apply_sigmoid_prime(Z1)\n",
    "#     print('----temp1----')\n",
    "#     print(temp1)\n",
    "#     print('----temp2----')\n",
    "#     print(temp2)\n",
    "    dZ1 = np.multiply(temp1 , temp2) # element wise product of same dimension matrices\n",
    "#     print('----dz1----')\n",
    "#     print(dZ1)\n",
    "    dW1 = (1./m) * np.dot(dZ1, X.T)\n",
    "#     print('----dw1----')\n",
    "#     print(dW1)\n",
    "    db1 = (1./m) * np.sum(dZ1, axis =1)\n",
    "#     print('----db1----')\n",
    "#     print(db1)\n",
    "    return dW1, db1, dW2, db2\n",
    "    \n",
    "# Get the loss of for the training example\n",
    "def get_cost(Y, Yhat):\n",
    "    m= Y.shape[1]\n",
    "#     print(m)\n",
    "    loss = np.multiply(np.log(Yhat),Y) + np.multiply((1.-Y), np.log(1. - Yhat))\n",
    "#     print(loss)\n",
    "    loss = np.sum(loss)\n",
    "    #print('loss is ' + str(loss))\n",
    "    cost = -1./m * np.sum(loss)\n",
    "    cost = np.squeeze(cost)\n",
    "    return cost\n",
    "\n",
    "def gradientDescent(X, Y, YOrg, alpha, iters):  \n",
    "    # Call Forward propagation to calculate yHat\n",
    "    W1 = np.random.randn(hiddenLayerSize, inputLayerSize) * 0.01;\n",
    "    W2 = np.random.randn(outputLayerSize, hiddenLayerSize) * 0.01;\n",
    "    b1 = np.zeros((hiddenLayerSize,1));\n",
    "    b2 = np.zeros((outputLayerSize,1));\n",
    "    old_cost = sys.maxsize\n",
    "    new_cost = sys.maxsize\n",
    "    dW1 = None\n",
    "    db1 = None\n",
    "    dW2 = None\n",
    "    db2 = None\n",
    "    cost_history = []\n",
    "    for i in range(iters):\n",
    "        A1, A2, Z1, Z2 = forward_propagate(X, W1, W2, b1, b2)\n",
    "        old_cost = new_cost\n",
    "        new_cost = get_cost(Y, A2)\n",
    "        dW1, db1, dW2, db2 = back_propagate(Z1, X, Y, A1, A2, W2)\n",
    "        W1 = W1 - alpha * dW1\n",
    "        b1 = b1 - alpha * db1\n",
    "        W2 = W2 - alpha * dW2\n",
    "        b2 = b2 - alpha * db2\n",
    "#         if(abs(old_cost - new_cost) < 0.00000000001):\n",
    "#             print(\"breaking\" + str(old_cost) + str(new_cost))\n",
    "#             break;\n",
    "        #print (\"cost : \" + str(new_cost) + \" Old cost : \" + str(old_cost) + \" Iteration: \" + str(i))\n",
    "        cost_history.append(new_cost)\n",
    "    A2 = softmax(A2)\n",
    "    accuracy1 = accuracy_score(YOrg, A2)\n",
    "    accuracy2 = get_accuracy(YOrg, A2)\n",
    "    return W1 , b1, W2, b2, cost_history, new_cost, accuracy1, accuracy2\n",
    "\n",
    "# Softmax activation function to get the probablity of the classes\n",
    "def softmax(z):\n",
    "    softMax = (np.exp(z) / np.sum(np.exp(z),axis=0))\n",
    "    softMax = np.matrix(np.argmax(softMax,axis=0)).T\n",
    "    return softMax\n",
    "\n",
    "def plotCostHistory(cost_history, alpha, i):\n",
    "     line = plt.plot(cost_history, label=alpha)\n",
    "     plt.ylabel('Cost');\n",
    "     plt.xlabel('Iterations');\n",
    "     plt.title('Cost Progression with Iterations for different learning rates')\n",
    "     plt.legend()\n",
    "        \n",
    "def get_accuracy(Y, Ypred):\n",
    "    Y = np.matrix(Y)\n",
    "    numcorrect = 0\n",
    "    for (x,y) in zip(Ypred,Y):\n",
    "        if(x[0]==y[0]):\n",
    "            numcorrect+=1\n",
    "    accuracy=numcorrect*100.0/len(Y)\n",
    "    return accuracy"
   ]
  },
  {
   "cell_type": "markdown",
   "metadata": {},
   "source": [
    "### 2. (5pts) Split data"
   ]
  },
  {
   "cell_type": "code",
   "execution_count": 3,
   "metadata": {
    "scrolled": false
   },
   "outputs": [],
   "source": [
    "# Reading the training data\n",
    "data_train = pd.read_csv('ex3_train.csv', sep=\",\", encoding='utf-8', header='infer')\n",
    "df_train = data_train\n",
    "m = df_train.shape[0]\n",
    "\n",
    "y_train = pd.DataFrame(df_train['y'])\n",
    "X_train = df_train.drop(['y'], axis=1)\n",
    "\n",
    "X_train_mat = np.matrix(X_train).T\n",
    "y_train_mat = oneHotEncode(y_train).T"
   ]
  },
  {
   "cell_type": "code",
   "execution_count": 4,
   "metadata": {
    "collapsed": true
   },
   "outputs": [],
   "source": [
    "# Reading the test data\n",
    "data_test = pd.read_csv('ex3_test.csv', sep=\",\", encoding='utf-8', header='infer')\n",
    "df_test = data_test\n",
    "\n",
    "y_test = pd.DataFrame(df_test['y'])\n",
    "X_test = df_test.drop(['y'], axis=1)\n",
    "\n",
    "X_test_mat = np.matrix(X_test).T\n",
    "y_test_mat = oneHotEncode(y_test).T\n",
    "\n",
    "# Plot the selected pixel\n",
    "# num = 7\n",
    "# pixels = np.array(X_test[num:num+1], dtype='uint8')\n",
    "# print(y_test[num:num+1])\n",
    "# pixels = pixels.reshape((20, 20))\n",
    "# plt.imshow(pixels, cmap='gray')\n",
    "# plt.show()\n",
    "\n"
   ]
  },
  {
   "cell_type": "code",
   "execution_count": 5,
   "metadata": {},
   "outputs": [
    {
     "name": "stdout",
     "output_type": "stream",
     "text": [
      "400\n",
      "10\n",
      "25\n"
     ]
    }
   ],
   "source": [
    "# Defining Hyperparameters\n",
    "inputLayerSize = X_train_mat.shape[0]\n",
    "hiddenLayerSize = 25 # As specified in assignment requirements\n",
    "outputLayerSize = 10\n",
    "print(inputLayerSize)\n",
    "print(outputLayerSize)\n",
    "print(hiddenLayerSize)"
   ]
  },
  {
   "cell_type": "code",
   "execution_count": 6,
   "metadata": {},
   "outputs": [],
   "source": [
    "# Optimization function to check cost propagartion for different learning rates\n",
    "def optimize():\n",
    "    alpha = [1]\n",
    "    i=0\n",
    "    scores = pd.DataFrame(columns=['alpha','W1', 'b1', 'W2', 'b2','cost'])\n",
    "    print('*****************Training Data*********************')\n",
    "    for a in alpha:\n",
    "        W1 , b1, W2, b2, cost_history, new_cost, acc1, acc2 = gradientDescent(X_train_mat, y_train_mat, y_train, a, 15000)\n",
    "        scores.loc[i] = pd.Series({'alpha':a, 'cost':new_cost, 'W1' : W1, 'b1' : b1, 'W2' : W2, 'b2' : b2})\n",
    "        print(\"Cost with alpha \" + str(a) + \" is \" + colored(str(new_cost), 'green'))\n",
    "        print(\"Accuracy1 is \" + str(acc1) + \" Accuracy2 is \" + str(acc2))\n",
    "        plotCostHistory(cost_history, a, i)\n",
    "        i+=1\n",
    "    least_cost_comb = scores['cost'].idxmin()\n",
    "    alph = scores.iloc[[least_cost_comb]]['alpha'][least_cost_comb]\n",
    "    W1 = scores.iloc[[least_cost_comb]]['W1'][least_cost_comb]\n",
    "    b1 = scores.iloc[[least_cost_comb]]['b1'][least_cost_comb]\n",
    "    W2 = scores.iloc[[least_cost_comb]]['W2'][least_cost_comb]\n",
    "    b2 = scores.iloc[[least_cost_comb]]['b2'][least_cost_comb]\n",
    "    plt.show()\n",
    "    return W1 , b1, W2, b2, alph"
   ]
  },
  {
   "cell_type": "code",
   "execution_count": 7,
   "metadata": {
    "scrolled": false
   },
   "outputs": [
    {
     "name": "stdout",
     "output_type": "stream",
     "text": [
      "*****************Training Data*********************\n",
      "Cost with alpha 1 is \u001b[32m0.0120701769021\u001b[0m\n",
      "Accuracy1 is 1.0 Accuracy2 is 100.0\n"
     ]
    },
    {
     "data": {
      "image/png": "[encoded data removed]",
      "text/plain": [
       "<matplotlib.figure.Figure at 0x103eaa5d0>"
      ]
     },
     "metadata": {},
     "output_type": "display_data"
    }
   ],
   "source": [
    "# Get the best combination of weights and alpha\n",
    "W1 , b1, W2, b2, alph = optimize()"
   ]
  },
  {
   "cell_type": "code",
   "execution_count": 8,
   "metadata": {
    "scrolled": false
   },
   "outputs": [
    {
     "name": "stdout",
     "output_type": "stream",
     "text": [
      "*****************Test Data*********************\n",
      "Accuracy is 0.918666666667 91.8666666667\n"
     ]
    }
   ],
   "source": [
    "A1, A2, Z1, Z2 = forward_propagate(X_test_mat, W1, W2, b1, b2)\n",
    "A2 = softmax(A2)\n",
    "acc1 = accuracy_score(y_test, A2)\n",
    "acc2 = get_accuracy(y_test, A2)\n",
    "print('*****************Test Data*********************')\n",
    "print('Accuracy is ' + str(acc1) + ' ' + str(acc2))"
   ]
  },
  {
   "cell_type": "code",
   "execution_count": 9,
   "metadata": {},
   "outputs": [
    {
     "name": "stdout",
     "output_type": "stream",
     "text": [
      "1\n"
     ]
    }
   ],
   "source": [
    "print(alph)"
   ]
  }
 ],
 "metadata": {
  "kernelspec": {
   "display_name": "Python 2",
   "language": "python",
   "name": "python2"
  },
  "language_info": {
   "codemirror_mode": {
    "name": "ipython",
    "version": 2
   },
   "file_extension": ".py",
   "mimetype": "text/x-python",
   "name": "python",
   "nbconvert_exporter": "python",
   "pygments_lexer": "ipython2",
   "version": "2.7.14"
  }
 },
 "nbformat": 4,
 "nbformat_minor": 2
}
