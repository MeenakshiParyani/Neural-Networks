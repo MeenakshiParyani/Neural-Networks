{
 "cells": [
  {
   "cell_type": "code",
   "execution_count": 9,
   "metadata": {
    "collapsed": true
   },
   "outputs": [],
   "source": [
    "# Imports\n",
    "import pandas as pd\n",
    "import numpy as np\n",
    "%matplotlib inline\n",
    "import matplotlib.pyplot as plt"
   ]
  },
  {
   "cell_type": "code",
   "execution_count": 43,
   "metadata": {},
   "outputs": [
    {
     "name": "stdout",
     "output_type": "stream",
     "text": [
      "(3500, 400)\n",
      "(3500,)\n"
     ]
    }
   ],
   "source": [
    "# Reading the training data\n",
    "data_train = pd.read_csv('ex3_train.csv', sep=\",\", encoding='utf-8', header='infer')\n",
    "df_train = data_train\n",
    "\n",
    "y_train = df_train['y']\n",
    "X_train = df_train.drop(['y'], axis=1)\n",
    "# Adding one's column for bias\n",
    "# X_train.insert(0,-1,1) \n",
    "\n",
    "print(X_train.shape)\n",
    "print(y_train.shape)\n"
   ]
  },
  {
   "cell_type": "code",
   "execution_count": 44,
   "metadata": {},
   "outputs": [
    {
     "name": "stdout",
     "output_type": "stream",
     "text": [
      "7    0\n",
      "Name: y, dtype: int64\n"
     ]
    },
    {
     "data": {
      "image/png": "[encoded data removed]",
      "text/plain": [
       "<matplotlib.figure.Figure at 0x105dc94d0>"
      ]
     },
     "metadata": {},
     "output_type": "display_data"
    }
   ],
   "source": [
    "# Reading the test data\n",
    "data_test = pd.read_csv('ex3_test.csv', sep=\",\", encoding='utf-8', header='infer')\n",
    "df_test = data_test\n",
    "\n",
    "y_test = df_test['y']\n",
    "X_test = df_test.drop(['y'], axis=1)\n",
    "\n",
    "#Plot the selected pixel\n",
    "num = 7\n",
    "pixels = np.array(X_test[num:num+1], dtype='uint8')\n",
    "print(y_test[num:num+1])\n",
    "pixels = pixels.reshape((20, 20))\n",
    "plt.imshow(pixels, cmap='gray')\n",
    "plt.show()\n",
    "\n",
    "\n",
    "# Adding one's column for bias\n",
    "# X_test.insert(0,-1,1) \n",
    "\n"
   ]
  },
  {
   "cell_type": "code",
   "execution_count": 46,
   "metadata": {
    "collapsed": true
   },
   "outputs": [],
   "source": [
    "# Defining Hyperparameters\n",
    "inputLayerSize = X_train.shape[1]\n",
    "hiddenLayerSize = 25 # As specified in assignment requirements\n",
    "outputLayerSize = y_train_mat.shape[1]"
   ]
  },
  {
   "cell_type": "code",
   "execution_count": 63,
   "metadata": {},
   "outputs": [
    {
     "name": "stdout",
     "output_type": "stream",
     "text": [
      "(3500, 10)\n"
     ]
    }
   ],
   "source": [
    "# One hot Encoding the categorical output values to binary by adding 1's for that index and 0's otherwise\n",
    "def oneHotEncode(y):\n",
    "    enc = pd.get_dummies(y)\n",
    "    return np.matrix(enc)\n",
    "\n",
    "y_train_mat = oneHotEncode(y_train)\n",
    "print(y_train_mat.shape)\n",
    "\n",
    "\n",
    "# Applying Sigmoid Activation function to the hidden layer outputs, works with scalar, arrays and matrix as well\n",
    "# Purpose of this method is to do squishing on the linear function\n",
    "def apply_sigmoid(z):\n",
    "    return 1/(1+np.exp(-z))\n",
    "\n",
    "\n",
    "# Forward propagation to calculate yHat by applying activation function twice\n",
    "def forward_propagate(X, W1):\n",
    "    z2 = np.dot(X, W1)\n",
    "    print('z2 shape---')\n",
    "    print(z2.shape)\n",
    "    a2 = apply_sigmoid(z2)\n",
    "    print('a2 shape---')\n",
    "    print(a2.shape)\n",
    "    print(z2)\n",
    "    W2 = 0.01* np.random.randn(hiddenLayerSize,outputLayerSize);\n",
    "#     W2_bias = np.c_[np.ones((W2.shape[0], 1)), W2] # Add column for bias\n",
    "    z3 = np.dot(a2, W2)\n",
    "    yHat = apply_sigmoid(z3) # Output of the last layer(output layer)\n",
    "    return yHat"
   ]
  },
  {
   "cell_type": "code",
   "execution_count": 65,
   "metadata": {},
   "outputs": [
    {
     "name": "stdout",
     "output_type": "stream",
     "text": [
      "400\n",
      "10\n",
      "25\n",
      "(400, 25)\n",
      "(401, 26)\n",
      "[[-0.00260622 -0.01250191 -0.00178242 ...,  0.00632297 -0.00968918\n",
      "   0.00617907]\n",
      " [ 0.00936864 -0.00170305  0.00631742 ...,  0.00582405 -0.00108779\n",
      "   0.01443415]\n",
      " [ 0.01369773 -0.0054706   0.00050398 ...,  0.0081098  -0.00049111\n",
      "  -0.00166223]\n",
      " ..., \n",
      " [ 0.00200798  0.00364304 -0.01407197 ...,  0.00351922 -0.01501257\n",
      "  -0.00030978]\n",
      " [ 0.00142657  0.00471447 -0.00940441 ..., -0.0037205   0.00363001\n",
      "  -0.00739288]\n",
      " [ 0.00607796  0.00633714  0.00295091 ...,  0.00779166  0.00590219\n",
      "   0.00463926]]\n",
      "[[  1.00000000e+00  -8.83746902e-03  -6.77017123e-03 ...,  -6.41417353e-03\n",
      "   -1.28484599e-02  -1.05394168e-02]\n",
      " [  1.00000000e+00   1.83739851e-02   6.03630333e-03 ...,   1.68747849e-02\n",
      "    3.01187128e-03  -6.39488640e-03]\n",
      " [  1.00000000e+00   7.01669824e-03   2.23688794e-05 ...,  -1.61131523e-02\n",
      "    1.48364547e-02   2.40776779e-03]\n",
      " ..., \n",
      " [  1.00000000e+00  -9.08313083e-03  -2.19351685e-03 ...,   1.34693919e-02\n",
      "   -1.09775967e-02   2.49741339e-03]\n",
      " [  1.00000000e+00  -6.99241603e-03  -2.99642135e-03 ...,   7.07260492e-03\n",
      "   -7.77447831e-03   4.59344159e-03]\n",
      " [  1.00000000e+00   4.68555195e-03  -3.77500880e-03 ...,   1.13110427e-02\n",
      "   -9.97787407e-03  -2.25721762e-03]]\n",
      "z2 shape---\n",
      "(3500, 25)\n",
      "a2 shape---\n",
      "(3500, 25)\n",
      "[[-0.03158779  0.01839274  0.00214988 ...,  0.06479837 -0.01516742\n",
      "  -0.04869455]\n",
      " [-0.09098218 -0.03914355 -0.01242945 ...,  0.08425659  0.06845419\n",
      "  -0.04245332]\n",
      " [-0.00791389 -0.04596565  0.06622075 ...,  0.10772279  0.06174055\n",
      "  -0.05479368]\n",
      " ..., \n",
      " [-0.1108577  -0.00382595 -0.02888109 ...,  0.04342592  0.10666588\n",
      "  -0.04493557]\n",
      " [-0.01972548  0.0028475   0.00859883 ...,  0.07489993  0.02959668\n",
      "  -0.06220866]\n",
      " [-0.14649114 -0.00299146  0.07828864 ...,  0.11982251  0.04985636\n",
      "  -0.03338868]]\n",
      "[[ 0.49575602  0.5071827   0.49866436 ...,  0.49831393  0.50434046\n",
      "   0.49856421]\n",
      " [ 0.49579327  0.50705013  0.49851582 ...,  0.49848642  0.50435686\n",
      "   0.49840069]\n",
      " [ 0.49577045  0.50723855  0.49867026 ...,  0.49824007  0.50435435\n",
      "   0.49814526]\n",
      " ..., \n",
      " [ 0.49561507  0.50720546  0.49846818 ...,  0.49817892  0.50433741\n",
      "   0.49827092]\n",
      " [ 0.49578974  0.50722259  0.49859625 ...,  0.49848213  0.50442289\n",
      "   0.49845215]\n",
      " [ 0.49577174  0.50733304  0.49867841 ...,  0.49820685  0.50429277\n",
      "   0.49821283]]\n",
      "(3500, 10)\n"
     ]
    }
   ],
   "source": [
    "print(inputLayerSize)\n",
    "print(outputLayerSize)\n",
    "print(hiddenLayerSize)\n",
    "\n",
    "# Call Forward propagation to calculate yHat\n",
    "W1 = 0.01* np.random.randn(inputLayerSize,hiddenLayerSize);\n",
    "# W1_bias = np.c_[np.ones((W1.shape[0], 1)), W1] # Add column for bias\n",
    "\n",
    "print(W1.shape);\n",
    "print(W1_bias.shape);\n",
    "print(W1);\n",
    "print(W1_bias);\n",
    "y_train_Hat = forward_propagate(X_train, W1)\n",
    "print(y_train_Hat)\n",
    "print(y_train_Hat.shape)"
   ]
  }
 ],
 "metadata": {
  "kernelspec": {
   "display_name": "Python 2",
   "language": "python",
   "name": "python2"
  },
  "language_info": {
   "codemirror_mode": {
    "name": "ipython",
    "version": 2
   },
   "file_extension": ".py",
   "mimetype": "text/x-python",
   "name": "python",
   "nbconvert_exporter": "python",
   "pygments_lexer": "ipython2",
   "version": "2.7.14"
  }
 },
 "nbformat": 4,
 "nbformat_minor": 2
}
